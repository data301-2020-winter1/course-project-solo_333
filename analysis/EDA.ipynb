{
 "cells": [
  {
   "cell_type": "code",
   "execution_count": 1,
   "metadata": {},
   "outputs": [],
   "source": [
    "import pandas as pd\n",
    "import pandas as pd\n",
    "import numpy as np\n",
    "from sklearn.datasets import load_wine\n",
    "def load_and_process(url_or_path_to_csv_file):\n",
    "    df=pd.read_csv(url_or_path_to_csv_file, encoding= 'unicode_escape')\n",
    "\n",
    "    df.dropna()\n",
    "    df = (\n",
    "        df\n",
    "        .assign(Weekend=lambda x: x[\"Weekend?\"]==\"Weekend\")\n",
    "        .assign(DateTime=lambda x:pd.to_datetime(x[\"Year\"] + x[\"Month\"] + x[\"Hour\"]))\n",
    "        .rename(columns={\"Injury Type\":\"Type\"})\n",
    "        .dropna()\n",
    "        .drop(['Weekend?',\"Year\",\"Month\",\"Hour\"],axis=1)\n",
    "        .sort_values(\"Master Record Number\", ascending=True)\n",
    "        .reset_index()\n",
    "    )\n",
    "#     df.to_csv(\"./processed/monroe-county-crash-data2003-to-2015.csv\")\n",
    "    \n",
    "    return df"
   ]
  },
  {
   "cell_type": "code",
   "execution_count": 2,
   "metadata": {},
   "outputs": [],
   "source": [
    "df = load_and_process(\"../data/raw/monroe-county-crash-data2003-to-2015.csv\")"
   ]
  },
  {
   "cell_type": "code",
   "execution_count": 3,
   "metadata": {},
   "outputs": [
    {
     "data": {
      "text/html": [
       "<div>\n",
       "<style scoped>\n",
       "    .dataframe tbody tr th:only-of-type {\n",
       "        vertical-align: middle;\n",
       "    }\n",
       "\n",
       "    .dataframe tbody tr th {\n",
       "        vertical-align: top;\n",
       "    }\n",
       "\n",
       "    .dataframe thead th {\n",
       "        text-align: right;\n",
       "    }\n",
       "</style>\n",
       "<table border=\"1\" class=\"dataframe\">\n",
       "  <thead>\n",
       "    <tr style=\"text-align: right;\">\n",
       "      <th></th>\n",
       "      <th>index</th>\n",
       "      <th>Master Record Number</th>\n",
       "      <th>Day</th>\n",
       "      <th>Latitude</th>\n",
       "      <th>Longitude</th>\n",
       "    </tr>\n",
       "  </thead>\n",
       "  <tbody>\n",
       "    <tr>\n",
       "      <th>count</th>\n",
       "      <td>52582.000000</td>\n",
       "      <td>5.258200e+04</td>\n",
       "      <td>52582.000000</td>\n",
       "      <td>52582.000000</td>\n",
       "      <td>52582.000000</td>\n",
       "    </tr>\n",
       "    <tr>\n",
       "      <th>mean</th>\n",
       "      <td>26832.483835</td>\n",
       "      <td>6.804322e+08</td>\n",
       "      <td>4.198490</td>\n",
       "      <td>35.609842</td>\n",
       "      <td>-78.680587</td>\n",
       "    </tr>\n",
       "    <tr>\n",
       "      <th>std</th>\n",
       "      <td>15470.090993</td>\n",
       "      <td>3.874820e+08</td>\n",
       "      <td>1.906186</td>\n",
       "      <td>11.250443</td>\n",
       "      <td>24.870831</td>\n",
       "    </tr>\n",
       "    <tr>\n",
       "      <th>min</th>\n",
       "      <td>0.000000</td>\n",
       "      <td>1.470500e+04</td>\n",
       "      <td>1.000000</td>\n",
       "      <td>0.000000</td>\n",
       "      <td>-88.959213</td>\n",
       "    </tr>\n",
       "    <tr>\n",
       "      <th>25%</th>\n",
       "      <td>13475.250000</td>\n",
       "      <td>9.000596e+08</td>\n",
       "      <td>3.000000</td>\n",
       "      <td>39.142048</td>\n",
       "      <td>-86.552192</td>\n",
       "    </tr>\n",
       "    <tr>\n",
       "      <th>50%</th>\n",
       "      <td>26839.500000</td>\n",
       "      <td>9.011297e+08</td>\n",
       "      <td>4.000000</td>\n",
       "      <td>39.164430</td>\n",
       "      <td>-86.531008</td>\n",
       "    </tr>\n",
       "    <tr>\n",
       "      <th>75%</th>\n",
       "      <td>40127.750000</td>\n",
       "      <td>9.019044e+08</td>\n",
       "      <td>6.000000</td>\n",
       "      <td>39.173344</td>\n",
       "      <td>-86.508288</td>\n",
       "    </tr>\n",
       "    <tr>\n",
       "      <th>max</th>\n",
       "      <td>53942.000000</td>\n",
       "      <td>9.026271e+08</td>\n",
       "      <td>7.000000</td>\n",
       "      <td>41.228665</td>\n",
       "      <td>86.596363</td>\n",
       "    </tr>\n",
       "  </tbody>\n",
       "</table>\n",
       "</div>"
      ],
      "text/plain": [
       "              index  Master Record Number           Day      Latitude  \\\n",
       "count  52582.000000          5.258200e+04  52582.000000  52582.000000   \n",
       "mean   26832.483835          6.804322e+08      4.198490     35.609842   \n",
       "std    15470.090993          3.874820e+08      1.906186     11.250443   \n",
       "min        0.000000          1.470500e+04      1.000000      0.000000   \n",
       "25%    13475.250000          9.000596e+08      3.000000     39.142048   \n",
       "50%    26839.500000          9.011297e+08      4.000000     39.164430   \n",
       "75%    40127.750000          9.019044e+08      6.000000     39.173344   \n",
       "max    53942.000000          9.026271e+08      7.000000     41.228665   \n",
       "\n",
       "          Longitude  \n",
       "count  52582.000000  \n",
       "mean     -78.680587  \n",
       "std       24.870831  \n",
       "min      -88.959213  \n",
       "25%      -86.552192  \n",
       "50%      -86.531008  \n",
       "75%      -86.508288  \n",
       "max       86.596363  "
      ]
     },
     "execution_count": 3,
     "metadata": {},
     "output_type": "execute_result"
    }
   ],
   "source": [
    "df.describe()"
   ]
  },
  {
   "cell_type": "code",
   "execution_count": 14,
   "metadata": {},
   "outputs": [
    {
     "data": {
      "text/html": [
       "<div>\n",
       "<style scoped>\n",
       "    .dataframe tbody tr th:only-of-type {\n",
       "        vertical-align: middle;\n",
       "    }\n",
       "\n",
       "    .dataframe tbody tr th {\n",
       "        vertical-align: top;\n",
       "    }\n",
       "\n",
       "    .dataframe thead th {\n",
       "        text-align: right;\n",
       "    }\n",
       "</style>\n",
       "<table border=\"1\" class=\"dataframe\">\n",
       "  <thead>\n",
       "    <tr style=\"text-align: right;\">\n",
       "      <th></th>\n",
       "      <th>index</th>\n",
       "      <th>Master Record Number</th>\n",
       "      <th>Day</th>\n",
       "      <th>Latitude</th>\n",
       "      <th>Longitude</th>\n",
       "    </tr>\n",
       "  </thead>\n",
       "  <tbody>\n",
       "    <tr>\n",
       "      <th>count</th>\n",
       "      <td>52582.000000</td>\n",
       "      <td>5.258200e+04</td>\n",
       "      <td>52582.000000</td>\n",
       "      <td>52582.000000</td>\n",
       "      <td>52582.000000</td>\n",
       "    </tr>\n",
       "    <tr>\n",
       "      <th>mean</th>\n",
       "      <td>26832.483835</td>\n",
       "      <td>6.804322e+08</td>\n",
       "      <td>4.198490</td>\n",
       "      <td>35.609842</td>\n",
       "      <td>-78.680587</td>\n",
       "    </tr>\n",
       "    <tr>\n",
       "      <th>std</th>\n",
       "      <td>15470.090993</td>\n",
       "      <td>3.874820e+08</td>\n",
       "      <td>1.906186</td>\n",
       "      <td>11.250443</td>\n",
       "      <td>24.870831</td>\n",
       "    </tr>\n",
       "    <tr>\n",
       "      <th>min</th>\n",
       "      <td>0.000000</td>\n",
       "      <td>1.470500e+04</td>\n",
       "      <td>1.000000</td>\n",
       "      <td>0.000000</td>\n",
       "      <td>-88.959213</td>\n",
       "    </tr>\n",
       "    <tr>\n",
       "      <th>25%</th>\n",
       "      <td>13475.250000</td>\n",
       "      <td>9.000596e+08</td>\n",
       "      <td>3.000000</td>\n",
       "      <td>39.142048</td>\n",
       "      <td>-86.552192</td>\n",
       "    </tr>\n",
       "    <tr>\n",
       "      <th>50%</th>\n",
       "      <td>26839.500000</td>\n",
       "      <td>9.011297e+08</td>\n",
       "      <td>4.000000</td>\n",
       "      <td>39.164430</td>\n",
       "      <td>-86.531008</td>\n",
       "    </tr>\n",
       "    <tr>\n",
       "      <th>75%</th>\n",
       "      <td>40127.750000</td>\n",
       "      <td>9.019044e+08</td>\n",
       "      <td>6.000000</td>\n",
       "      <td>39.173344</td>\n",
       "      <td>-86.508288</td>\n",
       "    </tr>\n",
       "    <tr>\n",
       "      <th>max</th>\n",
       "      <td>53942.000000</td>\n",
       "      <td>9.026271e+08</td>\n",
       "      <td>7.000000</td>\n",
       "      <td>41.228665</td>\n",
       "      <td>86.596363</td>\n",
       "    </tr>\n",
       "  </tbody>\n",
       "</table>\n",
       "</div>"
      ],
      "text/plain": [
       "              index  Master Record Number           Day      Latitude  \\\n",
       "count  52582.000000          5.258200e+04  52582.000000  52582.000000   \n",
       "mean   26832.483835          6.804322e+08      4.198490     35.609842   \n",
       "std    15470.090993          3.874820e+08      1.906186     11.250443   \n",
       "min        0.000000          1.470500e+04      1.000000      0.000000   \n",
       "25%    13475.250000          9.000596e+08      3.000000     39.142048   \n",
       "50%    26839.500000          9.011297e+08      4.000000     39.164430   \n",
       "75%    40127.750000          9.019044e+08      6.000000     39.173344   \n",
       "max    53942.000000          9.026271e+08      7.000000     41.228665   \n",
       "\n",
       "          Longitude  \n",
       "count  52582.000000  \n",
       "mean     -78.680587  \n",
       "std       24.870831  \n",
       "min      -88.959213  \n",
       "25%      -86.552192  \n",
       "50%      -86.531008  \n",
       "75%      -86.508288  \n",
       "max       86.596363  "
      ]
     },
     "execution_count": 14,
     "metadata": {},
     "output_type": "execute_result"
    }
   ],
   "source": [
    "df.describe()"
   ]
  },
  {
   "cell_type": "code",
   "execution_count": 17,
   "metadata": {},
   "outputs": [
    {
     "data": {
      "text/plain": [
       "array(['PEDESTRIAN ACTION', 'OTHER (DRIVER) - EXPLAIN IN NARRATIVE',\n",
       "       'FOLLOWING TOO CLOSELY', 'DISREGARD SIGNAL/REG SIGN',\n",
       "       'FAILURE TO YIELD RIGHT OF WAY', 'BRAKE FAILURE OR DEFECTIVE',\n",
       "       'IMPROPER LANE USAGE', 'UNSAFE BACKING', 'RAN OFF ROAD LEFT',\n",
       "       'OTHER (ENVIRONMENTAL) - EXPLAIN IN NARR', 'RAN OFF ROAD RIGHT',\n",
       "       'IMPROPER TURNING', 'ALCOHOLIC BEVERAGES', 'WRONG WAY ON ONE WAY',\n",
       "       'ROADWAY SURFACE CONDITION', 'DRIVER ASLEEP OR FATIGUED',\n",
       "       'UNSAFE SPEED', 'LEFT OF CENTER', 'IMPROPER PASSING',\n",
       "       'ANIMAL/OBJECT IN ROADWAY', 'NONE (ENVIRONMENTAL)',\n",
       "       'ACCELERATOR FAILURE OR DEFECTIVE', 'CELL PHONE USAGE',\n",
       "       'OVERCORRECTING/OVERSTEERING', 'HOLES/RUTS IN SURFACE',\n",
       "       'INSECURE/LEAKY LOAD', 'DRIVER ILLNESS', 'GLARE',\n",
       "       'VIEW OBSTRUCTED', 'NONE (VEHICLE)',\n",
       "       'VIOLATION OF LICENSE RESTRICTION',\n",
       "       'OTHER (VEHICLE) - EXPLAIN IN NARRATIVE', 'OTHER LIGHTS DEFECTIVE',\n",
       "       'STEERING FAILURE', 'PRESCRIPTION DRUGS',\n",
       "       'TIRE FAILURE OR DEFECTIVE', 'HEADLIGHT DEFECTIVE OR NOT ON',\n",
       "       'PASSENGER DISTRACTION', 'NONE (DRIVER)',\n",
       "       'ENGINE FAILURE OR DEFECTIVE',\n",
       "       'DRIVER DISTRACTED - EXPLAIN IN NARRATIVE', 'ILLEGAL DRUGS',\n",
       "       'OBSTRUCTION NOT MARKED', 'LANE MARKING OBSCURED',\n",
       "       'TOW HITCH FAILURE', 'OTHER TELEMATICS IN USE',\n",
       "       'TRAFFIC CONTROL INOPERATIVE/MISSING/OBSC',\n",
       "       'ROAD UNDER CONSTRUCTION', 'SEVERE CROSSWINDS',\n",
       "       'SPEED TOO FAST FOR WEATHER CONDITIONS', 'JACKKNIFING',\n",
       "       'OVERSIZE/OVERWEIGHT LOAD', 'SHOULDER DEFECTIVE', 'UTILITY WORK',\n",
       "       'UNSAFE LANE MOVEMENT'], dtype=object)"
      ]
     },
     "execution_count": 17,
     "metadata": {},
     "output_type": "execute_result"
    }
   ],
   "source": [
    "df[\"Primary Factor\"].unique()"
   ]
  },
  {
   "cell_type": "code",
   "execution_count": 18,
   "metadata": {},
   "outputs": [
    {
     "data": {
      "text/plain": [
       "array(['No injury/unknown', 'Non-incapacitating', 'Incapacitating',\n",
       "       'Fatal'], dtype=object)"
      ]
     },
     "execution_count": 18,
     "metadata": {},
     "output_type": "execute_result"
    }
   ],
   "source": [
    "df[\"Type\"].unique()"
   ]
  },
  {
   "cell_type": "code",
   "execution_count": 20,
   "metadata": {},
   "outputs": [],
   "source": [
    "import seaborn as sns"
   ]
  },
  {
   "cell_type": "code",
   "execution_count": 21,
   "metadata": {},
   "outputs": [
    {
     "data": {
      "image/png": "[encoded data removed]",
      "text/plain": [
       "<Figure size 432x288 with 1 Axes>"
      ]
     },
     "metadata": {
      "needs_background": "light"
     },
     "output_type": "display_data"
    }
   ],
   "source": [
    "ax = sns.countplot(y=\"Type\",data=df)"
   ]
  },
  {
   "cell_type": "code",
   "execution_count": 22,
   "metadata": {},
   "outputs": [
    {
     "data": {
      "text/plain": [
       "array(['2-Car', 'Moped/Motorcycle', '1-Car', 'Bus', '3+ Cars',\n",
       "       'Pedestrian', 'Cyclist'], dtype=object)"
      ]
     },
     "execution_count": 22,
     "metadata": {},
     "output_type": "execute_result"
    }
   ],
   "source": [
    "df[\"Collision Type\"].unique()"
   ]
  },
  {
   "cell_type": "code",
   "execution_count": 23,
   "metadata": {},
   "outputs": [
    {
     "data": {
      "image/png": "[encoded data removed]",
      "text/plain": [
       "<Figure size 432x288 with 1 Axes>"
      ]
     },
     "metadata": {
      "needs_background": "light"
     },
     "output_type": "display_data"
    }
   ],
   "source": [
    "ax = sns.countplot(y=\"Collision Type\",data=df)"
   ]
  },
  {
   "cell_type": "code",
   "execution_count": null,
   "metadata": {},
   "outputs": [],
   "source": []
  },
  {
   "cell_type": "code",
   "execution_count": null,
   "metadata": {},
   "outputs": [],
   "source": []
  }
 ],
 "metadata": {
  "kernelspec": {
   "display_name": "Python 3",
   "language": "python",
   "name": "python3"
  },
  "language_info": {
   "codemirror_mode": {
    "name": "ipython",
    "version": 3
   },
   "file_extension": ".py",
   "mimetype": "text/x-python",
   "name": "python",
   "nbconvert_exporter": "python",
   "pygments_lexer": "ipython3",
   "version": "3.8.3"
  }
 },
 "nbformat": 4,
 "nbformat_minor": 4
}
